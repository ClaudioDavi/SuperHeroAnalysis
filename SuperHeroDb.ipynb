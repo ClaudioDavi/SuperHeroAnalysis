{
 "cells": [
  {
   "cell_type": "markdown",
   "metadata": {},
   "source": [
    "# DATA COLLECTION, CLEAN-UP AND ANALYSIS:\n",
    "## THE MOST VANILLA SUPER HERO EVER\n",
    "*By: Claudio Davi*"
   ]
  },
  {
   "cell_type": "markdown",
   "metadata": {},
   "source": [
    "**Who is the most vanilla super hero ever? Can we create one?**\n",
    "\n",
    "I asked myself this question the other day and decided to test some of my skills with data. In this notebook, I'll guide you throughout my thinking process during the pursuit of the answer."
   ]
  },
  {
   "cell_type": "markdown",
   "metadata": {},
   "source": [
    "## Imports\n",
    "\n",
    "Those are the libraries used to make this happen."
   ]
  },
  {
   "cell_type": "code",
   "execution_count": null,
   "metadata": {
    "collapsed": true
   },
   "outputs": [],
   "source": [
    "from bs4 import BeautifulSoup\n",
    "import urllib3\n",
    "import pandas as pd\n",
    "from collections import defaultdict"
   ]
  },
  {
   "cell_type": "markdown",
   "metadata": {},
   "source": [
    "## Web Scraping\n",
    "\n",
    "First, I had to find a website that cointained all the information I needed for this project, after a couple of hours I've found \n",
    "superherodb.com with a very thorough list of super heroes with their information, and respective powers. So I built a web scraper to get that data."
   ]
  },
  {
   "cell_type": "code",
   "execution_count": null,
   "metadata": {
    "collapsed": true
   },
   "outputs": [],
   "source": [
    "http = urllib3.PoolManager()\n",
    "url = \"http://www.superherodb.com\"\n",
    "\n",
    "def get_data(http, link):\n",
    "    '''\n",
    "    Gets the main power page from superhero db\n",
    "    returns Beautifulsoup object\n",
    "    '''\n",
    "    wiki = http.request('GET', link)\n",
    "    data = BeautifulSoup(wiki.data, 'html.parser')\n",
    "    return data\n",
    "\n",
    "def get_hero_links(data):\n",
    "    herolinks = []\n",
    "    \n",
    "    for link in data.find_all(\"li\", {\"class\": \"char-li\"}):\n",
    "        for hero in link.find_all('a'):\n",
    "            herolinks.append(url + hero[\"href\"]) \n",
    "    return herolinks\n",
    "\n",
    "\n",
    "def get_hero_characteristics(hero_links):\n",
    "    #should return a list of heroes characteristics\n",
    "    hero_dicts = []\n",
    "    for hero_link in hero_links:\n",
    "        d = {}\n",
    "        data = get_data(http, hero_link)\n",
    "        hero_name = data.find('h1').get_text()\n",
    "        tr = data.find_all('tr')\n",
    "        d['name'] = hero_name\n",
    "        for table in tr: \n",
    "            td = table.find_all('td')\n",
    "            d[td[0].get_text()] = td[1].get_text()\n",
    "        hero_dicts.append(d)\n",
    "    return hero_dicts\n",
    "\n",
    "def get_power_links(data):\n",
    "    '''\n",
    "    gets the web site links for all powers\n",
    "    returns a list of links\n",
    "    '''\n",
    "    powerlinks = []\n",
    "    for link in data.find_all('a'):\n",
    "        if \"/powers/\" in link.get('href'):\n",
    "            powerlinks.append(url + link[\"href\"])\n",
    "    return powerlinks\n",
    "\n",
    "def get_superhero_powers(links):\n",
    "    '''\n",
    "    from all links received scrape that page for the power name\n",
    "    and add to a dict with lists as values.\n",
    "    returns the dictionary\n",
    "    '''\n",
    "    powers = defaultdict(list)\n",
    "    for link in links[1:]:\n",
    "        data = get_data(http, link)\n",
    "        power_name = data.find('h1').get_text()\n",
    "        for hero_name in data.find_all(\"span\", {\"class\": \"card2-title\"}):\n",
    "            powers[hero_name.get_text()].append(power_name)\n",
    "    return powers\n",
    "\n",
    "def transform_data_into_csv(super_hero_powers, csv_name):\n",
    "    '''\n",
    "    from the dictionary created with the web scraper we create a dataframe and save it to\n",
    "    csv\n",
    "    '''\n",
    "    df = pd.DataFrame(dict([ (hero,pd.Series(power)) for hero,power in super_hero_powers.items() ]))\n",
    "    df.to_csv(csv_name)"
   ]
  },
  {
   "cell_type": "markdown",
   "metadata": {},
   "source": [
    "## This is probably going to take a while, so we will save everything into csv files"
   ]
  },
  {
   "cell_type": "code",
   "execution_count": null,
   "metadata": {
    "collapsed": true
   },
   "outputs": [],
   "source": [
    "data = get_data(http,\"http://www.superherodb.com/powers\")\n",
    "power_links = get_power_links(data)\n",
    "super_hero_dict = get_superhero_powers(power_links)\n",
    "transform_data_into_csv(super_hero_dict)"
   ]
  },
  {
   "cell_type": "code",
   "execution_count": null,
   "metadata": {
    "collapsed": true
   },
   "outputs": [],
   "source": [
    "hero_data = get_data(http, \"http://www.superherodb.com/characters/\")\n",
    "herolinks = get_hero_links(hero_data)\n",
    "hero_dict = get_hero_characteristics(herolinks)\n",
    "df = pd.DataFrame.from_dict(hero_dict)\n",
    "df = df[['name', 'Gender', 'Eye color', 'Race', 'Hair color', 'Height', 'Publisher', 'Skin color', 'Alignment', 'Weight']]\n",
    "df.to_csv(\"heros_info.csv\")"
   ]
  },
  {
   "cell_type": "markdown",
   "metadata": {},
   "source": [
    "## Cleaning Data"
   ]
  },
  {
   "cell_type": "markdown",
   "metadata": {},
   "source": [
    "We saved our data into a csv so we do not need to make requests everytime. But this csv is not optimal for our analysis yet. We will have to clean and manipulate it."
   ]
  },
  {
   "cell_type": "code",
   "execution_count": null,
   "metadata": {
    "collapsed": true,
    "scrolled": false
   },
   "outputs": [],
   "source": [
    "df = pd.read_csv('super_hero_with_powers.csv')\n",
    "#get rid of this guy\n",
    "del df['Unnamed: 0']\n",
    "\n",
    "\n",
    "pwrs = df.stack().unique()\n",
    "L = [pd.Series(df[x].unique(), index=df[x].unique()).reindex(index=pwrs) for x in df.columns]\n",
    "df1 = pd.concat(L, axis=1, keys=df.columns)\n",
    "df1 = df1.eq(df1.index.values, axis=0)\n",
    "df1.index.name = 'power_names'\n",
    "df1.columns.names = ['hero_names']\n",
    "df1 = df1.T\n",
    "df1.to_csv('super_hero_powers.csv')\n",
    "df1.head()"
   ]
  },
  {
   "cell_type": "code",
   "execution_count": null,
   "metadata": {
    "collapsed": true
   },
   "outputs": [],
   "source": [
    "df = pd.read_csv('heros_info.csv')\n",
    "\n",
    "def measurements_in_metrics(row, ix):\n",
    "    h = row.split()\n",
    "    return h[ix]\n",
    "\n",
    "df['Height'] = df['Height'].apply(lambda x : measurements_in_metrics(x, 2))\n",
    "df['Weight'] = df['Weight'].apply(lambda x : measurements_in_metrics(x, 3))\n",
    "\n",
    "df['Weight'] = pd.to_numeric(df['Weight'], errors='coerce')\n",
    "del df['Unnamed: 0']\n",
    "df.to_csv('super_hero_infos.csv')\n",
    "df.head()"
   ]
  },
  {
   "cell_type": "code",
   "execution_count": null,
   "metadata": {
    "collapsed": true
   },
   "outputs": [],
   "source": [
    "heros_info = pd.read_csv('super_hero_infos.csv')\n",
    "hero_powers = pd.read_csv('super_hero_powers.csv')"
   ]
  },
  {
   "cell_type": "code",
   "execution_count": null,
   "metadata": {
    "collapsed": true
   },
   "outputs": [],
   "source": [
    "heros_info.head()"
   ]
  },
  {
   "cell_type": "code",
   "execution_count": null,
   "metadata": {
    "collapsed": true
   },
   "outputs": [],
   "source": [
    "hero_powers.head()"
   ]
  },
  {
   "cell_type": "code",
   "execution_count": null,
   "metadata": {
    "collapsed": true
   },
   "outputs": [],
   "source": [
    "heros_info['Height'].describe()"
   ]
  },
  {
   "cell_type": "code",
   "execution_count": null,
   "metadata": {
    "collapsed": true
   },
   "outputs": [],
   "source": [
    "heros_info['Weight'].describe()"
   ]
  },
  {
   "cell_type": "code",
   "execution_count": null,
   "metadata": {
    "collapsed": true
   },
   "outputs": [],
   "source": [
    "heros_info['Weight'].sort_values(ascending=False).head()"
   ]
  },
  {
   "cell_type": "code",
   "execution_count": null,
   "metadata": {
    "collapsed": true
   },
   "outputs": [],
   "source": [
    "heros_info['Height'].sort_values(ascending=False).head()"
   ]
  },
  {
   "cell_type": "code",
   "execution_count": null,
   "metadata": {
    "collapsed": true
   },
   "outputs": [],
   "source": [
    "heros_info['Weight'].replace(to_replace=0, value=heros_info.Weight.mean(), inplace = True )\n",
    "heros_info['Weight'].fillna(value=heros_info.Weight.mean(), inplace=True)"
   ]
  },
  {
   "cell_type": "code",
   "execution_count": null,
   "metadata": {
    "collapsed": true
   },
   "outputs": [],
   "source": [
    "heros_info['Height'].replace(to_replace=0, value=heros_info.Height.mean(), inplace = True )"
   ]
  },
  {
   "cell_type": "code",
   "execution_count": null,
   "metadata": {
    "collapsed": true
   },
   "outputs": [],
   "source": [
    "del heros_info['Unnamed: 0']"
   ]
  },
  {
   "cell_type": "code",
   "execution_count": null,
   "metadata": {
    "collapsed": true
   },
   "outputs": [],
   "source": [
    "heros_info.describe()"
   ]
  },
  {
   "cell_type": "code",
   "execution_count": null,
   "metadata": {
    "collapsed": true
   },
   "outputs": [],
   "source": [
    "#I'm going to take a break now, so I'll save our cleaned data into that same csv.\n",
    "heros_info.to_csv('super_hero_infos.csv')"
   ]
  },
  {
   "cell_type": "code",
   "execution_count": null,
   "metadata": {
    "collapsed": true
   },
   "outputs": [],
   "source": []
  },
  {
   "cell_type": "code",
   "execution_count": null,
   "metadata": {
    "collapsed": true
   },
   "outputs": [],
   "source": [
    "hero_power.head()"
   ]
  },
  {
   "cell_type": "code",
   "execution_count": null,
   "metadata": {
    "collapsed": true
   },
   "outputs": [],
   "source": []
  },
  {
   "cell_type": "markdown",
   "metadata": {},
   "source": [
    "## Cleaning and preparation done. Let's go to the fun part..."
   ]
  },
  {
   "cell_type": "code",
   "execution_count": 1,
   "metadata": {
    "collapsed": true
   },
   "outputs": [],
   "source": [
    "import pandas as pd\n",
    "import matplotlib.pyplot as plt\n",
    "from matplotlib import rcParams\n",
    "import seaborn as sns\n",
    "import matplotlib.pyplot as plt\n",
    "%matplotlib inline"
   ]
  },
  {
   "cell_type": "code",
   "execution_count": 2,
   "metadata": {
    "collapsed": true
   },
   "outputs": [],
   "source": [
    "#lets start again...\n",
    "hero_info = pd.read_csv('super_hero_infos.csv')\n",
    "hero_power = pd.read_csv('super_hero_powers.csv')"
   ]
  },
  {
   "cell_type": "code",
   "execution_count": 3,
   "metadata": {
    "collapsed": true
   },
   "outputs": [],
   "source": [
    "# Ok, I'm not proud of this thing right here. But it's is not stupid if it works, right?!\n",
    "power_num = hero_power.sum()\n",
    "#I had to create an intemediate guy with True and false sorted out,\n",
    "#giving me only the huper powers shared by at least 2 super heroes\n",
    "common_powers = (power_num == True).sort_values()[:-14].index"
   ]
  },
  {
   "cell_type": "code",
   "execution_count": 4,
   "metadata": {
    "collapsed": true
   },
   "outputs": [],
   "source": [
    "most_common_powers = hero_power[common_powers].sum()\n",
    "common_result = most_common_powers[1:].sort_values(ascending=False)[:10]"
   ]
  },
  {
   "cell_type": "code",
   "execution_count": 5,
   "metadata": {},
   "outputs": [],
   "source": [
    "sns.set_style(\"whitegrid\")\n",
    "sns.set_style(\"ticks\")"
   ]
  },
  {
   "cell_type": "markdown",
   "metadata": {},
   "source": [
    "### First plot comming up\n",
    "I honestly went through several iterations of this plot before I got satisfied with the result."
   ]
  },
  {
   "cell_type": "code",
   "execution_count": 21,
   "metadata": {},
   "outputs": [
    {
     "data": {
      "image/png": "[encoded data removed]",
      "text/plain": [
       "<matplotlib.figure.Figure at 0x1ea5e3347b8>"
      ]
     },
     "metadata": {},
     "output_type": "display_data"
    }
   ],
   "source": [
    "plt.figure(figsize=(12,8))\n",
    "c = sns.barplot(x=common_result.index, y = common_result, palette=sns.color_palette(\"Set2\", 10))\n",
    "#plt.setp(c.get_xticklabels())\n",
    "sns.despine(left=True)\n",
    "sns.set_style(\"whitegrid\")\n",
    "c.set_title(\"Top 10 most common Super-Powers\")\n",
    "c.set_xlabel(\"Power Name\")\n",
    "c.set_ylabel(\"Number of Heroes\")\n",
    "c.set(xticklabels=[\"Strength\", \"Stamina\", \"Durability\", \"Speed\",\"Agility\",\"Flight\",\n",
    "                   \"Fast Healing\",\"Reflexes\",\"Intelligence\", \"Energy Blasts\"])\n",
    "\n",
    "plt.savefig(\"common_powers.png\")\n",
    "plt.show()"
   ]
  },
  {
   "cell_type": "code",
   "execution_count": 84,
   "metadata": {},
   "outputs": [
    {
     "data": {
      "image/png": "[encoded data removed]",
      "text/plain": [
       "<matplotlib.figure.Figure at 0x1ea61d12860>"
      ]
     },
     "metadata": {},
     "output_type": "display_data"
    }
   ],
   "source": [
    "plt.figure(figsize=(8,4))\n",
    "g = sns.countplot(y=\"Gender\", data=hero_info, palette=\"Set2\", saturation=0.5)\n",
    "g.set(yticklabels=[\"Male\", \"Female\", \"Unknown\"])\n",
    "g.set_xlabel(\"Amount\")\n",
    "sns.despine(left=True, offset=0.5, bottom=True)\n",
    "g.set_title('Gender Distribution')\n",
    "plt.savefig(\"super_heroes_gender.png\")"
   ]
  },
  {
   "cell_type": "code",
   "execution_count": 75,
   "metadata": {},
   "outputs": [],
   "source": [
    "hero_info['Eye color'] = hero_info['Eye color'].str.replace('-', 'Unknown').fillna('Unknown').str.lower()"
   ]
  },
  {
   "cell_type": "code",
   "execution_count": null,
   "metadata": {
    "collapsed": true
   },
   "outputs": [],
   "source": [
    "hero_info['Gender'] = hero_info['Gender'].str.replace('-', 'Unknown')"
   ]
  },
  {
   "cell_type": "code",
   "execution_count": 104,
   "metadata": {},
   "outputs": [
    {
     "data": {
      "text/plain": [
       "[[<matplotlib.text.Text at 0x1ea65b4dac8>,\n",
       "  <matplotlib.text.Text at 0x1ea65b52400>,\n",
       "  <matplotlib.text.Text at 0x1ea65bd0eb8>,\n",
       "  <matplotlib.text.Text at 0x1ea65bdb9b0>,\n",
       "  <matplotlib.text.Text at 0x1ea65bdf4a8>]]"
      ]
     },
     "execution_count": 104,
     "metadata": {},
     "output_type": "execute_result"
    },
    {
     "data": {
      "image/png": "[encoded data removed]",
      "text/plain": [
       "<matplotlib.figure.Figure at 0x1ea65cd1160>"
      ]
     },
     "metadata": {},
     "output_type": "display_data"
    }
   ],
   "source": [
    "sns.set_context(context=\"poster\")\n",
    "e = sns.countplot(x=hero_info['Eye color'], data=hero_info, hue='Gender', \n",
    "              order=hero_info['Eye color'].value_counts().iloc[:5].index, palette=sns.color_palette(\"Set2\"))\n",
    "sns.despine(offset=5, left=True, bottom=True)\n",
    "e.set_title(\"Top Five Most Common Eye Colors In Super Heroes\")\n",
    "e.set_xlabel(\"Eye Color\")\n",
    "e.set_ylabel(\"Amount (units)\")\n",
    "e.set(xticklabels=[\"Blue\", \"Not Specified\", \"Brown\", \"Green\", \"Red\"])\n",
    "#plt.savefig(\"Eye_color_distribution.png\")"
   ]
  },
  {
   "cell_type": "code",
   "execution_count": 105,
   "metadata": {},
   "outputs": [
    {
     "data": {
      "text/html": [
       "<div>\n",
       "<style>\n",
       "    .dataframe thead tr:only-child th {\n",
       "        text-align: right;\n",
       "    }\n",
       "\n",
       "    .dataframe thead th {\n",
       "        text-align: left;\n",
       "    }\n",
       "\n",
       "    .dataframe tbody tr th {\n",
       "        vertical-align: top;\n",
       "    }\n",
       "</style>\n",
       "<table border=\"1\" class=\"dataframe\">\n",
       "  <thead>\n",
       "    <tr style=\"text-align: right;\">\n",
       "      <th></th>\n",
       "      <th>Unnamed: 0</th>\n",
       "      <th>name</th>\n",
       "      <th>Gender</th>\n",
       "      <th>Eye color</th>\n",
       "      <th>Race</th>\n",
       "      <th>Hair color</th>\n",
       "      <th>Height</th>\n",
       "      <th>Publisher</th>\n",
       "      <th>Skin color</th>\n",
       "      <th>Alignment</th>\n",
       "      <th>Weight</th>\n",
       "    </tr>\n",
       "  </thead>\n",
       "  <tbody>\n",
       "    <tr>\n",
       "      <th>0</th>\n",
       "      <td>0</td>\n",
       "      <td>A-Bomb</td>\n",
       "      <td>Male</td>\n",
       "      <td>yellow</td>\n",
       "      <td>Human</td>\n",
       "      <td>No Hair</td>\n",
       "      <td>203.0</td>\n",
       "      <td>Marvel Comics</td>\n",
       "      <td>NaN</td>\n",
       "      <td>good</td>\n",
       "      <td>441.0</td>\n",
       "    </tr>\n",
       "    <tr>\n",
       "      <th>1</th>\n",
       "      <td>1</td>\n",
       "      <td>Abe Sapien</td>\n",
       "      <td>Male</td>\n",
       "      <td>blue</td>\n",
       "      <td>Icthyo Sapien</td>\n",
       "      <td>No Hair</td>\n",
       "      <td>191.0</td>\n",
       "      <td>Dark Horse Comics</td>\n",
       "      <td>Blue</td>\n",
       "      <td>good</td>\n",
       "      <td>65.0</td>\n",
       "    </tr>\n",
       "    <tr>\n",
       "      <th>2</th>\n",
       "      <td>2</td>\n",
       "      <td>Abin Sur</td>\n",
       "      <td>Male</td>\n",
       "      <td>blue</td>\n",
       "      <td>Ungaran</td>\n",
       "      <td>No Hair</td>\n",
       "      <td>185.0</td>\n",
       "      <td>DC Comics</td>\n",
       "      <td>Red</td>\n",
       "      <td>good</td>\n",
       "      <td>90.0</td>\n",
       "    </tr>\n",
       "    <tr>\n",
       "      <th>3</th>\n",
       "      <td>3</td>\n",
       "      <td>Abomination</td>\n",
       "      <td>Male</td>\n",
       "      <td>green</td>\n",
       "      <td>Human / Radiation</td>\n",
       "      <td>No Hair</td>\n",
       "      <td>203.0</td>\n",
       "      <td>Marvel Comics</td>\n",
       "      <td>NaN</td>\n",
       "      <td>bad</td>\n",
       "      <td>441.0</td>\n",
       "    </tr>\n",
       "    <tr>\n",
       "      <th>4</th>\n",
       "      <td>4</td>\n",
       "      <td>Abraxas</td>\n",
       "      <td>Male</td>\n",
       "      <td>blue</td>\n",
       "      <td>Cosmic Entity</td>\n",
       "      <td>Black</td>\n",
       "      <td>0.0</td>\n",
       "      <td>Marvel Comics</td>\n",
       "      <td>NaN</td>\n",
       "      <td>bad</td>\n",
       "      <td>0.0</td>\n",
       "    </tr>\n",
       "  </tbody>\n",
       "</table>\n",
       "</div>"
      ],
      "text/plain": [
       "   Unnamed: 0         name Gender Eye color               Race Hair color  \\\n",
       "0           0       A-Bomb   Male    yellow              Human    No Hair   \n",
       "1           1   Abe Sapien   Male      blue      Icthyo Sapien    No Hair   \n",
       "2           2     Abin Sur   Male      blue            Ungaran    No Hair   \n",
       "3           3  Abomination   Male     green  Human / Radiation    No Hair   \n",
       "4           4      Abraxas   Male      blue      Cosmic Entity      Black   \n",
       "\n",
       "   Height          Publisher Skin color Alignment  Weight  \n",
       "0   203.0      Marvel Comics        NaN      good   441.0  \n",
       "1   191.0  Dark Horse Comics       Blue      good    65.0  \n",
       "2   185.0          DC Comics        Red      good    90.0  \n",
       "3   203.0      Marvel Comics        NaN       bad   441.0  \n",
       "4     0.0      Marvel Comics        NaN       bad     0.0  "
      ]
     },
     "execution_count": 105,
     "metadata": {},
     "output_type": "execute_result"
    }
   ],
   "source": [
    "#Let's see what we can explore...\n",
    "hero_info.head()"
   ]
  },
  {
   "cell_type": "code",
   "execution_count": null,
   "metadata": {
    "collapsed": true
   },
   "outputs": [],
   "source": []
  }
 ],
 "metadata": {
  "kernelspec": {
   "display_name": "Python 3",
   "language": "python",
   "name": "python3"
  },
  "language_info": {
   "codemirror_mode": {
    "name": "ipython",
    "version": 3
   },
   "file_extension": ".py",
   "mimetype": "text/x-python",
   "name": "python",
   "nbconvert_exporter": "python",
   "pygments_lexer": "ipython3",
   "version": "3.6.1"
  }
 },
 "nbformat": 4,
 "nbformat_minor": 2
}
